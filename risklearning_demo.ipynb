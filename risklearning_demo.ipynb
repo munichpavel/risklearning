{
 "cells": [
  {
   "cell_type": "markdown",
   "metadata": {
    "collapsed": true
   },
   "source": [
    "# risklearning demo\n",
    "\n",
    "Most, if not all, operational risk capital models assume the existence of stationary frequency and severity distributions (typically Poisson for frequencies, and a subexponential distribution such as lognormal for severities). Yet every quarter (or whenever the model is recalibrated) risk capital goes up almost without fail, either because frequencies increase, severities increase or both.\n",
    "\n",
    "The assumption of stationary distributions is just one limitation of current approaches to operational risk modeling, but it offers a good inroad for modeling approaches beyond the usual actuarial model typical in operational capital models.\n",
    "\n",
    "In this notebook, we give a first example of how neural networks can overcome the stationarity assumptions of traditional approaches. The hope is that this is but one of many examples showing a better way to model operational risk.\n",
    "\n",
    "Note: What follows if very much a work in progress . . .\n",
    "\n"
   ]
  },
  {
   "cell_type": "code",
   "execution_count": 1,
   "metadata": {
    "collapsed": true
   },
   "outputs": [],
   "source": [
    "import risklearning.learning_frequency as rlf"
   ]
  },
  {
   "cell_type": "code",
   "execution_count": 11,
   "metadata": {
    "collapsed": true
   },
   "outputs": [],
   "source": [
    "import pandas as pd\n",
    "import numpy as np\n",
    "import scipy.stats as stats\n",
    "import math\n",
    "\n",
    "import ggplot as gg\n",
    "%matplotlib inline"
   ]
  },
  {
   "cell_type": "markdown",
   "metadata": {},
   "source": [
    "## Set up frequency distribution to generate samples"
   ]
  },
  {
   "cell_type": "code",
   "execution_count": 12,
   "metadata": {
    "collapsed": false
   },
   "outputs": [],
   "source": [
    "tenors_horizon = 365 # (Time) tenors (e.g. 1 day) per model horizon (e.g. 1 year)\n",
    "\n",
    "h_start = 5.0 # How many model horizons of past data to train\n",
    "h_end = 1.0 #How many model horizons of past data to test / validate\n",
    "\n",
    "# Present is tenor 0, and boundary between training and testing data sets\n",
    "t_start = -int(math.floor(h_start*tenors_horizon))\n",
    "t_end = int(math.floor(h_end*tenors_horizon))\n",
    "\n",
    "\n",
    "#% Generate Poisson-distributed events\n",
    "lambda_init = 1 # intensity over tenor (e.g. day)\n",
    "lambda_final = 4 # intensity over tenor (e.g. day)\n",
    "n_tenors = t_end - t_start\n",
    "lambda_ts = np.linspace(lambda_init, lambda_final, num=n_tenors)\n",
    "freq_rv = stats.poisson\n",
    "counts = rlf.sim_counts(lambda_ts, freq_rv)\n",
    "\n",
    "# Build df around counts, level 1 and 2 categorization of Operational Risk events\n",
    "l1s = ['Execution Delivery and Process Management']*n_tenors\n",
    "l2s = ['Transaction Capture, Execution and Maintenance']*n_tenors\n",
    "tenors = list(xrange(t_start, t_end))\n",
    "\n",
    "counts_sim_df = pd.DataFrame({'t': tenors,\n",
    "                              'OR Category L1': l1s, 'OR Category L2': l2s,\n",
    "                              'counts': counts})\n"
   ]
  },
  {
   "cell_type": "code",
   "execution_count": 13,
   "metadata": {
    "collapsed": false
   },
   "outputs": [],
   "source": [
    "                    \n",
    "#%% Do MLE (simple average for Poisson process\n",
    "n_tenors_train = -t_start\n",
    "n_tenors_test = t_end\n",
    "\n",
    "counts_train = (counts_sim_df[counts_sim_df.t < 0]).groupby('OR Category L2').sum()\n",
    "counts_test =  (counts_sim_df[counts_sim_df.t >= 0]).groupby('OR Category L2').sum()\n"
   ]
  },
  {
   "cell_type": "markdown",
   "metadata": {},
   "source": [
    "## MLE for training data\n",
    "\n",
    "For the Poisson distribution, the MLE of the intensity (here lambda) is just the average of the counts per model horizon. In practice, OpRisk models sometimes take a weighted average, with the weight linearly decreasing over a period of years (see e.g. \"LDA at Work\" by Aue and Kalkbrener)."
   ]
  },
  {
   "cell_type": "code",
   "execution_count": 14,
   "metadata": {
    "collapsed": false
   },
   "outputs": [
    {
     "data": {
      "text/html": [
       "<div>\n",
       "<table border=\"1\" class=\"dataframe\">\n",
       "  <thead>\n",
       "    <tr style=\"text-align: right;\">\n",
       "      <th></th>\n",
       "      <th>0</th>\n",
       "      <th>1</th>\n",
       "      <th>2</th>\n",
       "      <th>3</th>\n",
       "      <th>4</th>\n",
       "      <th>5</th>\n",
       "      <th>6</th>\n",
       "      <th>7</th>\n",
       "      <th>8</th>\n",
       "      <th>9</th>\n",
       "      <th>10</th>\n",
       "      <th>11</th>\n",
       "    </tr>\n",
       "  </thead>\n",
       "  <tbody>\n",
       "    <tr>\n",
       "      <th>Count Top</th>\n",
       "      <td>0.000000</td>\n",
       "      <td>1.000000</td>\n",
       "      <td>2.000000</td>\n",
       "      <td>3.000000</td>\n",
       "      <td>4.000000</td>\n",
       "      <td>5.00000</td>\n",
       "      <td>6.000000</td>\n",
       "      <td>7.000000</td>\n",
       "      <td>8.000000</td>\n",
       "      <td>9.000000</td>\n",
       "      <td>14.000000</td>\n",
       "      <td>1.000000e+02</td>\n",
       "    </tr>\n",
       "    <tr>\n",
       "      <th>Probs</th>\n",
       "      <td>0.105125</td>\n",
       "      <td>0.236805</td>\n",
       "      <td>0.266714</td>\n",
       "      <td>0.200267</td>\n",
       "      <td>0.112781</td>\n",
       "      <td>0.05081</td>\n",
       "      <td>0.019076</td>\n",
       "      <td>0.006139</td>\n",
       "      <td>0.001728</td>\n",
       "      <td>0.000433</td>\n",
       "      <td>0.000122</td>\n",
       "      <td>1.822703e-08</td>\n",
       "    </tr>\n",
       "  </tbody>\n",
       "</table>\n",
       "</div>"
      ],
      "text/plain": [
       "                 0         1         2         3         4        5   \\\n",
       "Count Top  0.000000  1.000000  2.000000  3.000000  4.000000  5.00000   \n",
       "Probs      0.105125  0.236805  0.266714  0.200267  0.112781  0.05081   \n",
       "\n",
       "                 6         7         8         9          10            11  \n",
       "Count Top  6.000000  7.000000  8.000000  9.000000  14.000000  1.000000e+02  \n",
       "Probs      0.019076  0.006139  0.001728  0.000433   0.000122  1.822703e-08  "
      ]
     },
     "execution_count": 14,
     "metadata": {},
     "output_type": "execute_result"
    }
   ],
   "source": [
    "lambdas_train = counts_train['counts']/n_tenors_train\n",
    "lambdas_test = counts_train['counts']/n_tenors_test\n",
    "\n",
    "bin_tops = [1,2,3,4,5,6,7,8,9,10,15,101]\n",
    "# Recall that digitize (used later) defines bins by lower <= x < upper\n",
    "count_tops =[count - 1 for count in bin_tops]\n",
    "\n",
    "# Calculate bin probabilities from MLE poisson\n",
    "poi_mle = stats.poisson(lambdas_train)\n",
    "poi_bins = rlf.bin_probs(poi_mle, bin_tops)\n",
    "\n",
    "mle_probs = pd.DataFrame({'Count Top': count_tops, 'Probs': poi_bins})\n",
    "#mle_probs = pd.DataFrame(poi_bins, index = [t-1 for t in bin_tops], columns = ['Prob'])\n",
    "mle_probs.transpose()"
   ]
  },
  {
   "cell_type": "code",
   "execution_count": 15,
   "metadata": {
    "collapsed": false
   },
   "outputs": [
    {
     "data": {
      "image/png": "[encoded data removed]",
      "text/plain": [
       "<matplotlib.figure.Figure at 0x7f576ad913d0>"
      ]
     },
     "metadata": {},
     "output_type": "display_data"
    },
    {
     "name": "stdout",
     "output_type": "stream",
     "text": [
      "<ggplot: (8750839468297)>\n"
     ]
    }
   ],
   "source": [
    "mle_probs_vals = list(mle_probs.Probs)\n",
    "# Visualize pdf (w.r.t. bins)\n",
    "print gg.ggplot(mle_probs, gg.aes(x='Count Top',weight='Probs')) \\\n",
    "    + gg.geom_bar()\n"
   ]
  },
  {
   "cell_type": "markdown",
   "metadata": {},
   "source": [
    "## Prep simulated losses for neural network\n",
    "\n",
    "For example\n",
    "\n",
    "* Use one-hot-encoding for L1 and L2 categories (this will make more sense once we look at multiple dependent categories)\n",
    "* Bin count data\n",
    "* Normalize tenors (i.e. scale so that first tenor maps to -1 with 0 preserved)\n",
    "* Export as numpy arrays to feed into keras / tensorflow"
   ]
  },
  {
   "cell_type": "code",
   "execution_count": 16,
   "metadata": {
    "collapsed": false
   },
   "outputs": [],
   "source": [
    "import warnings\n",
    "warnings.filterwarnings('ignore') # TODO: improve slicing to avoid warnings\n",
    "\n",
    "x_train, y_train, x_test, y_test = rlf.prep_count_data(counts_sim_df, bin_tops)\n"
   ]
  },
  {
   "cell_type": "markdown",
   "metadata": {},
   "source": [
    "## Set up the network architecture and train\n",
    "\n",
    "We use keras with TensorFlow backend.\n",
    "\n",
    "Note: there has been no real attempt yet to optimize metaparameters."
   ]
  },
  {
   "cell_type": "code",
   "execution_count": 17,
   "metadata": {
    "collapsed": false
   },
   "outputs": [
    {
     "name": "stderr",
     "output_type": "stream",
     "text": [
      "Using TensorFlow backend.\n"
     ]
    },
    {
     "name": "stdout",
     "output_type": "stream",
     "text": [
      "Train on 1825 samples, validate on 364 samples\n",
      "Epoch 1/4\n",
      "1825/1825 [==============================] - 0s - loss: 2.0769 - val_loss: 2.3316\n",
      "Epoch 2/4\n",
      "1825/1825 [==============================] - 0s - loss: 1.8574 - val_loss: 2.2149\n",
      "Epoch 3/4\n",
      "1825/1825 [==============================] - 0s - loss: 1.8319 - val_loss: 2.1882\n",
      "Epoch 4/4\n",
      "1825/1825 [==============================] - 0s - loss: 1.8114 - val_loss: 2.1009\n"
     ]
    },
    {
     "data": {
      "text/plain": [
       "<keras.callbacks.History at 0x7f57546caf50>"
      ]
     },
     "execution_count": 17,
     "metadata": {},
     "output_type": "execute_result"
    }
   ],
   "source": [
    "from keras.models import Sequential\n",
    "from keras.layers import Dense, Activation, Dropout\n",
    "from keras.optimizers import SGD\n",
    "\n",
    "hlayer_len = [100] # As series in anticipation of different sized layers\n",
    "\n",
    "# Number of nodes in output layer: if series, 1, else number of cols\n",
    "out_layer_len = 1 if len(y_train.shape)==1 else y_train.shape[1]\n",
    "model = Sequential()\n",
    "model.add(Dense(hlayer_len[0], input_shape=(x_train.shape[1],)))\n",
    "model.add(Activation('relu')) # An \"activation\" is just a non-linear function applied to the output\n",
    "                              # of the layer above. Here, with a \"rectified linear unit\",\n",
    "                              # we clamp all values below 0 to 0.\n",
    "                           \n",
    "model.add(Dropout(0.2))   # Default dropout parameter\n",
    "model.add(Dense(hlayer_len[0]))\n",
    "model.add(Activation('relu'))\n",
    "model.add(Dropout(0.2))\n",
    "\n",
    "model.add(Dense(hlayer_len[0]))\n",
    "model.add(Activation('relu'))\n",
    "model.add(Dropout(0.2))\n",
    "\n",
    "\n",
    "model.add(Dense(out_layer_len))\n",
    "model.add(Activation('softmax')) \n",
    "\n",
    "sgd = SGD(lr=0.01, decay=1e-6, momentum=0.9, nesterov=True)\n",
    "\n",
    "# For categorical target\n",
    "model.compile(loss='categorical_crossentropy', optimizer=sgd)\n",
    "\n",
    "model.fit(x_train, y_train,\n",
    "          batch_size=32, nb_epoch=4,\n",
    "          show_accuracy=True, verbose=1,\n",
    "          validation_data=(x_test, y_test))\n"
   ]
  },
  {
   "cell_type": "markdown",
   "metadata": {},
   "source": [
    "## Neural network frequency distribution\n",
    "\n",
    "If the neural network has learned anything, we will see that the probility distribution shifts over time to higher buckets."
   ]
  },
  {
   "cell_type": "code",
   "execution_count": 18,
   "metadata": {
    "collapsed": false
   },
   "outputs": [
    {
     "name": "stdout",
     "output_type": "stream",
     "text": [
      "320/364 [=========================>....] - ETA: 0s"
     ]
    },
    {
     "data": {
      "text/plain": [
       "array([[ 0.08125865,  0.11843511,  0.23979877, ...,  0.00670556,\n",
       "         0.00424262,  0.00532065],\n",
       "       [ 0.08121584,  0.11839944,  0.23977102, ...,  0.00670971,\n",
       "         0.00424455,  0.00532387],\n",
       "       [ 0.08117304,  0.11836378,  0.23974329, ...,  0.00671386,\n",
       "         0.00424649,  0.0053271 ],\n",
       "       ..., \n",
       "       [ 0.06989081,  0.10841215,  0.22909659, ...,  0.00811479,\n",
       "         0.00490208,  0.00631426],\n",
       "       [ 0.0698665 ,  0.10839131,  0.22907253, ...,  0.00811857,\n",
       "         0.00490373,  0.00631665],\n",
       "       [ 0.06984218,  0.10837048,  0.22904837, ...,  0.00812236,\n",
       "         0.00490538,  0.00631904]], dtype=float32)"
      ]
     },
     "execution_count": 18,
     "metadata": {},
     "output_type": "execute_result"
    }
   ],
   "source": [
    "proba = model.predict_proba(x_test, batch_size=32)\n",
    "proba\n",
    "\n"
   ]
  },
  {
   "cell_type": "code",
   "execution_count": 20,
   "metadata": {
    "collapsed": false
   },
   "outputs": [
    {
     "data": {
      "text/html": [
       "<div>\n",
       "<table border=\"1\" class=\"dataframe\">\n",
       "  <thead>\n",
       "    <tr style=\"text-align: right;\">\n",
       "      <th></th>\n",
       "      <th>0</th>\n",
       "      <th>1</th>\n",
       "      <th>2</th>\n",
       "      <th>3</th>\n",
       "      <th>4</th>\n",
       "      <th>5</th>\n",
       "      <th>6</th>\n",
       "      <th>7</th>\n",
       "      <th>8</th>\n",
       "      <th>9</th>\n",
       "      <th>14</th>\n",
       "      <th>100</th>\n",
       "    </tr>\n",
       "  </thead>\n",
       "  <tbody>\n",
       "    <tr>\n",
       "      <th>0</th>\n",
       "      <td>0.081259</td>\n",
       "      <td>0.118435</td>\n",
       "      <td>0.239799</td>\n",
       "      <td>0.247460</td>\n",
       "      <td>0.140450</td>\n",
       "      <td>0.084759</td>\n",
       "      <td>0.040461</td>\n",
       "      <td>0.023068</td>\n",
       "      <td>0.008042</td>\n",
       "      <td>0.006706</td>\n",
       "      <td>0.004243</td>\n",
       "      <td>0.005321</td>\n",
       "    </tr>\n",
       "    <tr>\n",
       "      <th>1</th>\n",
       "      <td>0.081216</td>\n",
       "      <td>0.118399</td>\n",
       "      <td>0.239771</td>\n",
       "      <td>0.247483</td>\n",
       "      <td>0.140458</td>\n",
       "      <td>0.084792</td>\n",
       "      <td>0.040480</td>\n",
       "      <td>0.023077</td>\n",
       "      <td>0.008046</td>\n",
       "      <td>0.006710</td>\n",
       "      <td>0.004245</td>\n",
       "      <td>0.005324</td>\n",
       "    </tr>\n",
       "    <tr>\n",
       "      <th>2</th>\n",
       "      <td>0.081173</td>\n",
       "      <td>0.118364</td>\n",
       "      <td>0.239743</td>\n",
       "      <td>0.247507</td>\n",
       "      <td>0.140465</td>\n",
       "      <td>0.084825</td>\n",
       "      <td>0.040499</td>\n",
       "      <td>0.023086</td>\n",
       "      <td>0.008050</td>\n",
       "      <td>0.006714</td>\n",
       "      <td>0.004246</td>\n",
       "      <td>0.005327</td>\n",
       "    </tr>\n",
       "    <tr>\n",
       "      <th>3</th>\n",
       "      <td>0.081130</td>\n",
       "      <td>0.118328</td>\n",
       "      <td>0.239715</td>\n",
       "      <td>0.247530</td>\n",
       "      <td>0.140473</td>\n",
       "      <td>0.084859</td>\n",
       "      <td>0.040518</td>\n",
       "      <td>0.023095</td>\n",
       "      <td>0.008055</td>\n",
       "      <td>0.006718</td>\n",
       "      <td>0.004248</td>\n",
       "      <td>0.005330</td>\n",
       "    </tr>\n",
       "    <tr>\n",
       "      <th>4</th>\n",
       "      <td>0.081087</td>\n",
       "      <td>0.118292</td>\n",
       "      <td>0.239688</td>\n",
       "      <td>0.247553</td>\n",
       "      <td>0.140481</td>\n",
       "      <td>0.084892</td>\n",
       "      <td>0.040537</td>\n",
       "      <td>0.023104</td>\n",
       "      <td>0.008059</td>\n",
       "      <td>0.006722</td>\n",
       "      <td>0.004250</td>\n",
       "      <td>0.005334</td>\n",
       "    </tr>\n",
       "  </tbody>\n",
       "</table>\n",
       "</div>"
      ],
      "text/plain": [
       "        0         1         2         3         4         5         6    \\\n",
       "0  0.081259  0.118435  0.239799  0.247460  0.140450  0.084759  0.040461   \n",
       "1  0.081216  0.118399  0.239771  0.247483  0.140458  0.084792  0.040480   \n",
       "2  0.081173  0.118364  0.239743  0.247507  0.140465  0.084825  0.040499   \n",
       "3  0.081130  0.118328  0.239715  0.247530  0.140473  0.084859  0.040518   \n",
       "4  0.081087  0.118292  0.239688  0.247553  0.140481  0.084892  0.040537   \n",
       "\n",
       "        7         8         9         14        100  \n",
       "0  0.023068  0.008042  0.006706  0.004243  0.005321  \n",
       "1  0.023077  0.008046  0.006710  0.004245  0.005324  \n",
       "2  0.023086  0.008050  0.006714  0.004246  0.005327  \n",
       "3  0.023095  0.008055  0.006718  0.004248  0.005330  \n",
       "4  0.023104  0.008059  0.006722  0.004250  0.005334  "
      ]
     },
     "execution_count": 20,
     "metadata": {},
     "output_type": "execute_result"
    }
   ],
   "source": [
    "nn_probs = pd.DataFrame(proba, index = range(0,t_end-1), columns = [t-1 for t in bin_tops])\n",
    "# Heads (i.e. starting from present)\n",
    "nn_probs.head()"
   ]
  },
  {
   "cell_type": "code",
   "execution_count": 21,
   "metadata": {
    "collapsed": false
   },
   "outputs": [
    {
     "data": {
      "text/html": [
       "<div>\n",
       "<table border=\"1\" class=\"dataframe\">\n",
       "  <thead>\n",
       "    <tr style=\"text-align: right;\">\n",
       "      <th></th>\n",
       "      <th>0</th>\n",
       "      <th>1</th>\n",
       "      <th>2</th>\n",
       "      <th>3</th>\n",
       "      <th>4</th>\n",
       "      <th>5</th>\n",
       "      <th>6</th>\n",
       "      <th>7</th>\n",
       "      <th>8</th>\n",
       "      <th>9</th>\n",
       "      <th>14</th>\n",
       "      <th>100</th>\n",
       "    </tr>\n",
       "  </thead>\n",
       "  <tbody>\n",
       "    <tr>\n",
       "      <th>359</th>\n",
       "      <td>0.069939</td>\n",
       "      <td>0.108454</td>\n",
       "      <td>0.229145</td>\n",
       "      <td>0.252379</td>\n",
       "      <td>0.144029</td>\n",
       "      <td>0.094384</td>\n",
       "      <td>0.046600</td>\n",
       "      <td>0.026340</td>\n",
       "      <td>0.009415</td>\n",
       "      <td>0.008107</td>\n",
       "      <td>0.004899</td>\n",
       "      <td>0.006309</td>\n",
       "    </tr>\n",
       "    <tr>\n",
       "      <th>360</th>\n",
       "      <td>0.069915</td>\n",
       "      <td>0.108433</td>\n",
       "      <td>0.229121</td>\n",
       "      <td>0.252389</td>\n",
       "      <td>0.144034</td>\n",
       "      <td>0.094404</td>\n",
       "      <td>0.046615</td>\n",
       "      <td>0.026348</td>\n",
       "      <td>0.009418</td>\n",
       "      <td>0.008111</td>\n",
       "      <td>0.004900</td>\n",
       "      <td>0.006312</td>\n",
       "    </tr>\n",
       "    <tr>\n",
       "      <th>361</th>\n",
       "      <td>0.069891</td>\n",
       "      <td>0.108412</td>\n",
       "      <td>0.229097</td>\n",
       "      <td>0.252399</td>\n",
       "      <td>0.144039</td>\n",
       "      <td>0.094424</td>\n",
       "      <td>0.046630</td>\n",
       "      <td>0.026356</td>\n",
       "      <td>0.009421</td>\n",
       "      <td>0.008115</td>\n",
       "      <td>0.004902</td>\n",
       "      <td>0.006314</td>\n",
       "    </tr>\n",
       "    <tr>\n",
       "      <th>362</th>\n",
       "      <td>0.069867</td>\n",
       "      <td>0.108391</td>\n",
       "      <td>0.229073</td>\n",
       "      <td>0.252409</td>\n",
       "      <td>0.144044</td>\n",
       "      <td>0.094445</td>\n",
       "      <td>0.046645</td>\n",
       "      <td>0.026364</td>\n",
       "      <td>0.009424</td>\n",
       "      <td>0.008119</td>\n",
       "      <td>0.004904</td>\n",
       "      <td>0.006317</td>\n",
       "    </tr>\n",
       "    <tr>\n",
       "      <th>363</th>\n",
       "      <td>0.069842</td>\n",
       "      <td>0.108370</td>\n",
       "      <td>0.229048</td>\n",
       "      <td>0.252420</td>\n",
       "      <td>0.144048</td>\n",
       "      <td>0.094465</td>\n",
       "      <td>0.046660</td>\n",
       "      <td>0.026372</td>\n",
       "      <td>0.009427</td>\n",
       "      <td>0.008122</td>\n",
       "      <td>0.004905</td>\n",
       "      <td>0.006319</td>\n",
       "    </tr>\n",
       "  </tbody>\n",
       "</table>\n",
       "</div>"
      ],
      "text/plain": [
       "          0         1         2         3         4         5         6    \\\n",
       "359  0.069939  0.108454  0.229145  0.252379  0.144029  0.094384  0.046600   \n",
       "360  0.069915  0.108433  0.229121  0.252389  0.144034  0.094404  0.046615   \n",
       "361  0.069891  0.108412  0.229097  0.252399  0.144039  0.094424  0.046630   \n",
       "362  0.069867  0.108391  0.229073  0.252409  0.144044  0.094445  0.046645   \n",
       "363  0.069842  0.108370  0.229048  0.252420  0.144048  0.094465  0.046660   \n",
       "\n",
       "          7         8         9         14        100  \n",
       "359  0.026340  0.009415  0.008107  0.004899  0.006309  \n",
       "360  0.026348  0.009418  0.008111  0.004900  0.006312  \n",
       "361  0.026356  0.009421  0.008115  0.004902  0.006314  \n",
       "362  0.026364  0.009424  0.008119  0.004904  0.006317  \n",
       "363  0.026372  0.009427  0.008122  0.004905  0.006319  "
      ]
     },
     "execution_count": 21,
     "metadata": {},
     "output_type": "execute_result"
    }
   ],
   "source": [
    "# Tails (i.e. going to end of model horizon of 1 yr)\n",
    "nn_probs.tail()"
   ]
  },
  {
   "cell_type": "code",
   "execution_count": 22,
   "metadata": {
    "collapsed": false
   },
   "outputs": [
    {
     "data": {
      "text/html": [
       "<div>\n",
       "<table border=\"1\" class=\"dataframe\">\n",
       "  <thead>\n",
       "    <tr style=\"text-align: right;\">\n",
       "      <th></th>\n",
       "      <th>0</th>\n",
       "      <th>1</th>\n",
       "      <th>2</th>\n",
       "      <th>3</th>\n",
       "      <th>4</th>\n",
       "      <th>5</th>\n",
       "      <th>6</th>\n",
       "      <th>7</th>\n",
       "      <th>8</th>\n",
       "      <th>9</th>\n",
       "      <th>10</th>\n",
       "      <th>11</th>\n",
       "    </tr>\n",
       "  </thead>\n",
       "  <tbody>\n",
       "    <tr>\n",
       "      <th>Count Top</th>\n",
       "      <td>0.000000</td>\n",
       "      <td>1.000000</td>\n",
       "      <td>2.000000</td>\n",
       "      <td>3.000000</td>\n",
       "      <td>4.000000</td>\n",
       "      <td>5.00000</td>\n",
       "      <td>6.000000</td>\n",
       "      <td>7.000000</td>\n",
       "      <td>8.000000</td>\n",
       "      <td>9.000000</td>\n",
       "      <td>14.000000</td>\n",
       "      <td>1.000000e+02</td>\n",
       "    </tr>\n",
       "    <tr>\n",
       "      <th>Probs</th>\n",
       "      <td>0.105125</td>\n",
       "      <td>0.236805</td>\n",
       "      <td>0.266714</td>\n",
       "      <td>0.200267</td>\n",
       "      <td>0.112781</td>\n",
       "      <td>0.05081</td>\n",
       "      <td>0.019076</td>\n",
       "      <td>0.006139</td>\n",
       "      <td>0.001728</td>\n",
       "      <td>0.000433</td>\n",
       "      <td>0.000122</td>\n",
       "      <td>1.822703e-08</td>\n",
       "    </tr>\n",
       "  </tbody>\n",
       "</table>\n",
       "</div>"
      ],
      "text/plain": [
       "                 0         1         2         3         4        5   \\\n",
       "Count Top  0.000000  1.000000  2.000000  3.000000  4.000000  5.00000   \n",
       "Probs      0.105125  0.236805  0.266714  0.200267  0.112781  0.05081   \n",
       "\n",
       "                 6         7         8         9          10            11  \n",
       "Count Top  6.000000  7.000000  8.000000  9.000000  14.000000  1.000000e+02  \n",
       "Probs      0.019076  0.006139  0.001728  0.000433   0.000122  1.822703e-08  "
      ]
     },
     "execution_count": 22,
     "metadata": {},
     "output_type": "execute_result"
    }
   ],
   "source": [
    "# And what MLE told us before\n",
    "mle_probs.transpose()"
   ]
  },
  {
   "cell_type": "code",
   "execution_count": 23,
   "metadata": {
    "collapsed": false
   },
   "outputs": [
    {
     "data": {
      "image/png": "[encoded data removed]",
      "text/plain": [
       "<matplotlib.figure.Figure at 0x7f5754450cd0>"
      ]
     },
     "metadata": {},
     "output_type": "display_data"
    },
    {
     "data": {
      "text/plain": [
       "<ggplot: (8750815836441)>"
      ]
     },
     "execution_count": 23,
     "metadata": {},
     "output_type": "execute_result"
    }
   ],
   "source": [
    "#%% Convert proba from wide to long and append to other probs\n",
    "# TODO: Missing last tenor in nn proba (already in x_test, y_test)\n",
    "probs_list = []\n",
    "\n",
    "for t in range(proba.shape[0]):\n",
    "    nn_probs_t = proba[t]    \n",
    "    true_bins_t = rlf.bin_probs(stats.poisson(lambda_ts[-t_start+t]), bin_tops)\n",
    "    probs_t = pd.DataFrame({'Tenor': t, 'Count Top': count_tops, \\\n",
    "                            'True Probs': true_bins_t, \\\n",
    "                            'Probs NN': nn_probs_t, \\\n",
    "                            'Probs MLE': mle_probs_vals}, \\\n",
    "                            index = range(t*len(count_tops), \\\n",
    "                                    t*len(count_tops) + len(count_tops)))\n",
    "    probs_list.append(probs_t)\n",
    "\n",
    "probs = pd.concat(probs_list)\n",
    "#%% Compare pdf plots\n",
    "\n",
    "probs_head = probs[probs.Tenor < 4 ]\n",
    "\n",
    "gg.ggplot(probs_head, gg.aes(x='Count Top',weight='True Probs')) \\\n",
    "    + gg.facet_grid('Tenor') \\\n",
    "    + gg.geom_bar() \\\n",
    "    + gg.geom_step(gg.aes(y='Probs MLE', color = 'red')) \\\n",
    "    + gg.geom_step(gg.aes(y='Probs NN', color = 'blue')) \\\n",
    "    + gg.scale_x_continuous(limits = (0,len(count_tops)))\n"
   ]
  },
  {
   "cell_type": "code",
   "execution_count": 24,
   "metadata": {
    "collapsed": false
   },
   "outputs": [
    {
     "data": {
      "image/png": "[encoded data removed]",
      "text/plain": [
       "<matplotlib.figure.Figure at 0x7f573fe8a9d0>"
      ]
     },
     "metadata": {},
     "output_type": "display_data"
    },
    {
     "data": {
      "text/plain": [
       "<ggplot: (8750815903621)>"
      ]
     },
     "execution_count": 24,
     "metadata": {},
     "output_type": "execute_result"
    }
   ],
   "source": [
    "probs_tail = probs[probs.Tenor > 360 ]\n",
    "\n",
    "gg.ggplot(probs_tail, gg.aes(x='Count Top',weight='True Probs')) \\\n",
    "    + gg.facet_grid('Tenor') \\\n",
    "    + gg.geom_bar() \\\n",
    "    + gg.geom_step(gg.aes(y='Probs MLE', color = 'red')) \\\n",
    "    + gg.geom_step(gg.aes(y='Probs NN', color = 'blue')) \\\n",
    "    + gg.scale_x_continuous(limits = (0,len(count_tops)))\n",
    "\n"
   ]
  },
  {
   "cell_type": "markdown",
   "metadata": {},
   "source": [
    "## Summary and next steps\n",
    "\n",
    "We can see by the nn_probs data frame that the probability mass of the neural network shifts to the right, as does the underlying Poisson processes, with its intensity starting at 1 events per tenor / day at - 5 yrs and ending at 4 events per tenor / day at +1 yrs.\n",
    "\n",
    "Next steps:\n",
    "\n",
    "* Use better metric on generalization error that looking at probability tables (KS?)\n",
    "* Optimize hyperparameters\n",
    "* Simulate multiple, correlated Poisson processes\n",
    "* Test non-linear non-stationarities\n",
    "* Try recurrent neural network\n",
    "* Try convolution network\n",
    "\n"
   ]
  }
 ],
 "metadata": {
  "kernelspec": {
   "display_name": "Python [env_rl]",
   "language": "python",
   "name": "Python [env_rl]"
  },
  "language_info": {
   "codemirror_mode": {
    "name": "ipython",
    "version": 2
   },
   "file_extension": ".py",
   "mimetype": "text/x-python",
   "name": "python",
   "nbconvert_exporter": "python",
   "pygments_lexer": "ipython2",
   "version": "2.7.12"
  }
 },
 "nbformat": 4,
 "nbformat_minor": 0
}
